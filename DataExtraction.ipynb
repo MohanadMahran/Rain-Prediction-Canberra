{
 "cells": [
  {
   "cell_type": "markdown",
   "id": "9649f98c-0364-4b31-9cdc-1f92b12db5a7",
   "metadata": {},
   "source": [
    "# Weather Data Extraction\n",
    "\n",
    "This notebook extracts weather data for Canberra, Australia, using the Bureau of Meteorology's website.\n",
    "\n",
    "## Import Necessary Libraries\n",
    "\n",
    "```python"
   ]
  },
  {
   "cell_type": "code",
   "execution_count": 1,
   "id": "bf003c70-83f7-40aa-a8f1-1d63e3d3b96f",
   "metadata": {},
   "outputs": [],
   "source": [
    "import requests\n",
    "import pandas as pd\n",
    "from bs4 import BeautifulSoup"
   ]
  },
  {
   "cell_type": "code",
   "execution_count": 2,
   "id": "c8ad2106-c454-442c-a900-3398be4f4001",
   "metadata": {},
   "outputs": [],
   "source": [
    "def extract_weather_tables(start_month=1, end_month=11):\n",
    "    # Base URL\n",
    "    base_url = \"https://reg.bom.gov.au/climate/dwo/2024{month:02}/html/IDCJDW2801.2024{month:02}.shtml\"\n",
    "    month_name = [\"January\", \"February\", \"March\", \"April\", \"May\", \"June\",\n",
    "                  \"July\", \"August\", \"September\", \"October\", \"November\", \"December\"]\n",
    "    \n",
    "    meandf = []  # List to hold mean DataFrames for each month\n",
    "    all_data = []  # List to hold all weather data\n",
    "\n",
    "    # Loop through the months\n",
    "    for month in range(start_month, end_month):\n",
    "        # Create the URL for the current month\n",
    "        url = base_url.format(month=month)\n",
    "        print(f\"Fetching data from: {month_name[month-1]}\")\n",
    "        \n",
    "        # Send a request\n",
    "        response = requests.get(url)\n",
    "\n",
    "        if response.status_code == 200:\n",
    "            soup = BeautifulSoup(response.content, 'html.parser')\n",
    "            \n",
    "            # Find the table\n",
    "            table = soup.find('table')\n",
    "            if table:\n",
    "                # Convert the table into a DataFrame\n",
    "                df = pd.read_html(str(table))[0]\n",
    "\n",
    "                # Extract the mean values and store it in meandf\n",
    "                if len(df) > 4:\n",
    "                    mean_row = df.iloc[[-4]].copy()  # Use copy to avoid warnings\n",
    "                    meandf.append(mean_row)  # Append the DataFrame\n",
    "\n",
    "                # Remove the last 5 rows\n",
    "                if len(df) > 5:\n",
    "                    df = df.iloc[:-5]\n",
    "\n",
    "                all_data.append(df)\n",
    "            else:\n",
    "                print(f\"No table found in {url}.\")\n",
    "        else:\n",
    "            print(f\"Failed to retrieve data from {url} - Status code: {response.status_code}\")\n",
    "\n",
    "    # Concatenate all DataFrames into one\n",
    "    if all_data:\n",
    "        combined_df = pd.concat(all_data, ignore_index=True)\n",
    "\n",
    "        # Change the date field to datetime objects\n",
    "        if 'Date' in combined_df.columns:\n",
    "            # Generate date range from January 1 to November 14\n",
    "            date_range = pd.date_range(start='2024-01-01', end='2024-10-31')\n",
    "            combined_df['Date'] = date_range[:len(combined_df)]\n",
    "        \n",
    "        # Create a DataFrame for the mean values\n",
    "        if meandf:\n",
    "            mean_combined_df = pd.concat(meandf, ignore_index=True)\n",
    "            return combined_df, mean_combined_df\n",
    "        else:\n",
    "            return combined_df, None\n",
    "    else:\n",
    "        return None, None"
   ]
  },
  {
   "cell_type": "markdown",
   "id": "997f8f4d-743f-440e-9409-7b94fca7670c",
   "metadata": {},
   "source": [
    "## Execute the Function"
   ]
  },
  {
   "cell_type": "code",
   "execution_count": 5,
   "id": "7212d5c1-0abc-4a71-b996-c58c85728f9c",
   "metadata": {},
   "outputs": [
    {
     "name": "stdout",
     "output_type": "stream",
     "text": [
      "Fetching data from: January\n"
     ]
    },
    {
     "name": "stderr",
     "output_type": "stream",
     "text": [
      "C:\\Users\\mohan\\AppData\\Local\\Temp\\ipykernel_9080\\40755998.py:26: FutureWarning: Passing literal html to 'read_html' is deprecated and will be removed in a future version. To read from a literal string, wrap it in a 'StringIO' object.\n",
      "  df = pd.read_html(str(table))[0]\n"
     ]
    },
    {
     "name": "stdout",
     "output_type": "stream",
     "text": [
      "Fetching data from: February\n"
     ]
    },
    {
     "name": "stderr",
     "output_type": "stream",
     "text": [
      "C:\\Users\\mohan\\AppData\\Local\\Temp\\ipykernel_9080\\40755998.py:26: FutureWarning: Passing literal html to 'read_html' is deprecated and will be removed in a future version. To read from a literal string, wrap it in a 'StringIO' object.\n",
      "  df = pd.read_html(str(table))[0]\n"
     ]
    },
    {
     "name": "stdout",
     "output_type": "stream",
     "text": [
      "Fetching data from: March\n"
     ]
    },
    {
     "name": "stderr",
     "output_type": "stream",
     "text": [
      "C:\\Users\\mohan\\AppData\\Local\\Temp\\ipykernel_9080\\40755998.py:26: FutureWarning: Passing literal html to 'read_html' is deprecated and will be removed in a future version. To read from a literal string, wrap it in a 'StringIO' object.\n",
      "  df = pd.read_html(str(table))[0]\n"
     ]
    },
    {
     "name": "stdout",
     "output_type": "stream",
     "text": [
      "Fetching data from: April\n"
     ]
    },
    {
     "name": "stderr",
     "output_type": "stream",
     "text": [
      "C:\\Users\\mohan\\AppData\\Local\\Temp\\ipykernel_9080\\40755998.py:26: FutureWarning: Passing literal html to 'read_html' is deprecated and will be removed in a future version. To read from a literal string, wrap it in a 'StringIO' object.\n",
      "  df = pd.read_html(str(table))[0]\n"
     ]
    },
    {
     "name": "stdout",
     "output_type": "stream",
     "text": [
      "Fetching data from: May\n"
     ]
    },
    {
     "name": "stderr",
     "output_type": "stream",
     "text": [
      "C:\\Users\\mohan\\AppData\\Local\\Temp\\ipykernel_9080\\40755998.py:26: FutureWarning: Passing literal html to 'read_html' is deprecated and will be removed in a future version. To read from a literal string, wrap it in a 'StringIO' object.\n",
      "  df = pd.read_html(str(table))[0]\n"
     ]
    },
    {
     "name": "stdout",
     "output_type": "stream",
     "text": [
      "Fetching data from: June\n"
     ]
    },
    {
     "name": "stderr",
     "output_type": "stream",
     "text": [
      "C:\\Users\\mohan\\AppData\\Local\\Temp\\ipykernel_9080\\40755998.py:26: FutureWarning: Passing literal html to 'read_html' is deprecated and will be removed in a future version. To read from a literal string, wrap it in a 'StringIO' object.\n",
      "  df = pd.read_html(str(table))[0]\n"
     ]
    },
    {
     "name": "stdout",
     "output_type": "stream",
     "text": [
      "Fetching data from: July\n"
     ]
    },
    {
     "name": "stderr",
     "output_type": "stream",
     "text": [
      "C:\\Users\\mohan\\AppData\\Local\\Temp\\ipykernel_9080\\40755998.py:26: FutureWarning: Passing literal html to 'read_html' is deprecated and will be removed in a future version. To read from a literal string, wrap it in a 'StringIO' object.\n",
      "  df = pd.read_html(str(table))[0]\n"
     ]
    },
    {
     "name": "stdout",
     "output_type": "stream",
     "text": [
      "Fetching data from: August\n"
     ]
    },
    {
     "name": "stderr",
     "output_type": "stream",
     "text": [
      "C:\\Users\\mohan\\AppData\\Local\\Temp\\ipykernel_9080\\40755998.py:26: FutureWarning: Passing literal html to 'read_html' is deprecated and will be removed in a future version. To read from a literal string, wrap it in a 'StringIO' object.\n",
      "  df = pd.read_html(str(table))[0]\n"
     ]
    },
    {
     "name": "stdout",
     "output_type": "stream",
     "text": [
      "Fetching data from: September\n"
     ]
    },
    {
     "name": "stderr",
     "output_type": "stream",
     "text": [
      "C:\\Users\\mohan\\AppData\\Local\\Temp\\ipykernel_9080\\40755998.py:26: FutureWarning: Passing literal html to 'read_html' is deprecated and will be removed in a future version. To read from a literal string, wrap it in a 'StringIO' object.\n",
      "  df = pd.read_html(str(table))[0]\n"
     ]
    },
    {
     "name": "stdout",
     "output_type": "stream",
     "text": [
      "Fetching data from: October\n",
      "        Date Day Temps       Rain Evap   Sun Max wind gust              ...  \\\n",
      "        Date Day   Min   Max Rain Evap   Sun           Dir  Spd   Time  ...   \n",
      "        Date Day    °C    °C   mm   mm hours          km/h km/h  local  ...   \n",
      "0 2024-01-01  Mo  14.5  27.6    0  NaN   NaN            NE   30  18:14  ...   \n",
      "1 2024-01-02  Tu  16.9  27.7  0.6  NaN   NaN           NNE   31  17:45  ...   \n",
      "2 2024-01-03  We  17.2  30.2  0.4  NaN   NaN            SE   37  19:27  ...   \n",
      "3 2024-01-04  Th  16.9  24.1  4.8  NaN   NaN           ESE   31  20:52  ...   \n",
      "4 2024-01-05  Fr  14.4  23.9  4.2  NaN   NaN           ENE   43  16:15  ...   \n",
      "\n",
      "  9 am                    3 pm                            \n",
      "   Cld  Dir  Spd    MSLP  Temp  RH Cld  Dir  Spd    MSLP  \n",
      "   8th km/h km/h     hPa    °C   % 8th km/h km/h     hPa  \n",
      "0    8    E   13  1022.5  25.0  53   5    S    9  1018.0  \n",
      "1    8    S    9  1018.3  26.2  56   1    N   11  1015.5  \n",
      "2    7   SE    4  1016.2  28.7  54   8  WNW   13  1013.0  \n",
      "3    8   SE    7  1016.0  23.5  73   6  ESE   15  1016.2  \n",
      "4    8  SSE   17  1021.5  22.4  54   8    E   17  1019.8  \n",
      "\n",
      "[5 rows x 22 columns]\n",
      "   Date   Day Temps       Rain Evap   Sun Max wind gust             ... 9 am  \\\n",
      "   Date   Day   Min   Max Rain Evap   Sun           Dir  Spd  Time  ...  Cld   \n",
      "   Date   Day    °C    °C   mm   mm hours          km/h km/h local  ...  8th   \n",
      "0  Mean  Mean  14.9  27.1  NaN  NaN   NaN           NaN  NaN   NaN  ...    7   \n",
      "1  Mean  Mean  14.2  28.1  NaN  NaN   NaN           NaN  NaN   NaN  ...    6   \n",
      "2  Mean  Mean  10.7  27.4  NaN  NaN   NaN           NaN  NaN   NaN  ...    6   \n",
      "3  Mean  Mean   5.8  20.8  NaN  NaN   NaN           NaN  NaN   NaN  ...    5   \n",
      "4  Mean  Mean   2.6  16.8  NaN  NaN   NaN           NaN  NaN   NaN  ...    6   \n",
      "5  Mean  Mean   0.1  12.9  NaN  NaN   NaN           NaN  NaN   NaN  ...    6   \n",
      "6  Mean  Mean   0.4  12.5  NaN  NaN   NaN           NaN  NaN   NaN  ...    6   \n",
      "7  Mean  Mean   2.5  16.7  NaN  NaN   NaN           NaN  NaN   NaN  ...    5   \n",
      "8  Mean  Mean   3.6  18.6  NaN  NaN   NaN           NaN  NaN   NaN  ...    5   \n",
      "9  Mean  Mean   5.9  22.3  NaN  NaN   NaN           NaN  NaN   NaN  ...    5   \n",
      "\n",
      "                     3 pm                            \n",
      "   Dir  Spd    MSLP  Temp  RH Cld  Dir  Spd    MSLP  \n",
      "  km/h km/h     hPa    °C   % 8th km/h km/h     hPa  \n",
      "0  NaN   11  1013.9  25.4  53   5  NaN   18  1011.4  \n",
      "1  NaN    8  1017.1  26.4  50   5  NaN   16  1014.3  \n",
      "2  NaN    6  1021.5  26.0  37   4  NaN   15  1018.5  \n",
      "3  NaN    9  1022.3  19.6  45   6  NaN   16  1019.4  \n",
      "4  NaN    6  1028.8  15.8  55   6  NaN   15  1025.9  \n",
      "5  NaN    8  1020.5  11.9  57   5  NaN   16  1018.3  \n",
      "6  NaN   13  1023.7  11.1  60   6  NaN   19  1021.5  \n",
      "7  NaN   11  1023.1  15.3  52   4  NaN   20  1020.0  \n",
      "8  NaN   18  1021.8  16.9  39   4  NaN   27  1019.1  \n",
      "9  NaN   10  1019.7  20.7  39   6  NaN   21  1016.5  \n",
      "\n",
      "[10 rows x 22 columns]\n"
     ]
    },
    {
     "name": "stderr",
     "output_type": "stream",
     "text": [
      "C:\\Users\\mohan\\AppData\\Local\\Temp\\ipykernel_9080\\40755998.py:26: FutureWarning: Passing literal html to 'read_html' is deprecated and will be removed in a future version. To read from a literal string, wrap it in a 'StringIO' object.\n",
      "  df = pd.read_html(str(table))[0]\n"
     ]
    }
   ],
   "source": [
    "weather_data, mean_data = extract_weather_tables()\n",
    "print(weather_data.head())\n",
    "print(mean_data)"
   ]
  },
  {
   "cell_type": "code",
   "execution_count": 7,
   "id": "6874c537-e603-4f5a-9cc3-ebeed250e22a",
   "metadata": {},
   "outputs": [
    {
     "name": "stdout",
     "output_type": "stream",
     "text": [
      "Weather data saved to 'weather_data.csv'.\n"
     ]
    }
   ],
   "source": [
    "# Save the weather_data DataFrame to a CSV file\n",
    "weather_data.to_csv('weather_data.csv', index=False)\n",
    "print(\"Weather data saved to 'weather_data.csv'.\")"
   ]
  },
  {
   "cell_type": "code",
   "execution_count": 9,
   "id": "5e9e98cd-2c67-44bb-a23e-490a57e591bf",
   "metadata": {},
   "outputs": [
    {
     "data": {
      "text/html": [
       "<div>\n",
       "<style scoped>\n",
       "    .dataframe tbody tr th:only-of-type {\n",
       "        vertical-align: middle;\n",
       "    }\n",
       "\n",
       "    .dataframe tbody tr th {\n",
       "        vertical-align: top;\n",
       "    }\n",
       "\n",
       "    .dataframe thead tr th {\n",
       "        text-align: left;\n",
       "    }\n",
       "</style>\n",
       "<table border=\"1\" class=\"dataframe\">\n",
       "  <thead>\n",
       "    <tr>\n",
       "      <th></th>\n",
       "      <th>Date</th>\n",
       "      <th>Day</th>\n",
       "      <th colspan=\"2\" halign=\"left\">Temps</th>\n",
       "      <th>Rain</th>\n",
       "      <th>Evap</th>\n",
       "      <th>Sun</th>\n",
       "      <th colspan=\"3\" halign=\"left\">Max wind gust</th>\n",
       "      <th>...</th>\n",
       "      <th colspan=\"4\" halign=\"left\">9 am</th>\n",
       "      <th colspan=\"6\" halign=\"left\">3 pm</th>\n",
       "    </tr>\n",
       "    <tr>\n",
       "      <th></th>\n",
       "      <th>Date</th>\n",
       "      <th>Day</th>\n",
       "      <th>Min</th>\n",
       "      <th>Max</th>\n",
       "      <th>Rain</th>\n",
       "      <th>Evap</th>\n",
       "      <th>Sun</th>\n",
       "      <th>Dir</th>\n",
       "      <th>Spd</th>\n",
       "      <th>Time</th>\n",
       "      <th>...</th>\n",
       "      <th>Cld</th>\n",
       "      <th>Dir</th>\n",
       "      <th>Spd</th>\n",
       "      <th>MSLP</th>\n",
       "      <th>Temp</th>\n",
       "      <th>RH</th>\n",
       "      <th>Cld</th>\n",
       "      <th>Dir</th>\n",
       "      <th>Spd</th>\n",
       "      <th>MSLP</th>\n",
       "    </tr>\n",
       "    <tr>\n",
       "      <th></th>\n",
       "      <th>Date</th>\n",
       "      <th>Day</th>\n",
       "      <th>°C</th>\n",
       "      <th>°C</th>\n",
       "      <th>mm</th>\n",
       "      <th>mm</th>\n",
       "      <th>hours</th>\n",
       "      <th>km/h</th>\n",
       "      <th>km/h</th>\n",
       "      <th>local</th>\n",
       "      <th>...</th>\n",
       "      <th>8th</th>\n",
       "      <th>km/h</th>\n",
       "      <th>km/h</th>\n",
       "      <th>hPa</th>\n",
       "      <th>°C</th>\n",
       "      <th>%</th>\n",
       "      <th>8th</th>\n",
       "      <th>km/h</th>\n",
       "      <th>km/h</th>\n",
       "      <th>hPa</th>\n",
       "    </tr>\n",
       "  </thead>\n",
       "  <tbody>\n",
       "    <tr>\n",
       "      <th>0</th>\n",
       "      <td>2024-01-01</td>\n",
       "      <td>Mo</td>\n",
       "      <td>14.5</td>\n",
       "      <td>27.6</td>\n",
       "      <td>0</td>\n",
       "      <td>NaN</td>\n",
       "      <td>NaN</td>\n",
       "      <td>NE</td>\n",
       "      <td>30</td>\n",
       "      <td>18:14</td>\n",
       "      <td>...</td>\n",
       "      <td>8</td>\n",
       "      <td>E</td>\n",
       "      <td>13</td>\n",
       "      <td>1022.5</td>\n",
       "      <td>25.0</td>\n",
       "      <td>53</td>\n",
       "      <td>5</td>\n",
       "      <td>S</td>\n",
       "      <td>9</td>\n",
       "      <td>1018.0</td>\n",
       "    </tr>\n",
       "    <tr>\n",
       "      <th>1</th>\n",
       "      <td>2024-01-02</td>\n",
       "      <td>Tu</td>\n",
       "      <td>16.9</td>\n",
       "      <td>27.7</td>\n",
       "      <td>0.6</td>\n",
       "      <td>NaN</td>\n",
       "      <td>NaN</td>\n",
       "      <td>NNE</td>\n",
       "      <td>31</td>\n",
       "      <td>17:45</td>\n",
       "      <td>...</td>\n",
       "      <td>8</td>\n",
       "      <td>S</td>\n",
       "      <td>9</td>\n",
       "      <td>1018.3</td>\n",
       "      <td>26.2</td>\n",
       "      <td>56</td>\n",
       "      <td>1</td>\n",
       "      <td>N</td>\n",
       "      <td>11</td>\n",
       "      <td>1015.5</td>\n",
       "    </tr>\n",
       "    <tr>\n",
       "      <th>2</th>\n",
       "      <td>2024-01-03</td>\n",
       "      <td>We</td>\n",
       "      <td>17.2</td>\n",
       "      <td>30.2</td>\n",
       "      <td>0.4</td>\n",
       "      <td>NaN</td>\n",
       "      <td>NaN</td>\n",
       "      <td>SE</td>\n",
       "      <td>37</td>\n",
       "      <td>19:27</td>\n",
       "      <td>...</td>\n",
       "      <td>7</td>\n",
       "      <td>SE</td>\n",
       "      <td>4</td>\n",
       "      <td>1016.2</td>\n",
       "      <td>28.7</td>\n",
       "      <td>54</td>\n",
       "      <td>8</td>\n",
       "      <td>WNW</td>\n",
       "      <td>13</td>\n",
       "      <td>1013.0</td>\n",
       "    </tr>\n",
       "    <tr>\n",
       "      <th>3</th>\n",
       "      <td>2024-01-04</td>\n",
       "      <td>Th</td>\n",
       "      <td>16.9</td>\n",
       "      <td>24.1</td>\n",
       "      <td>4.8</td>\n",
       "      <td>NaN</td>\n",
       "      <td>NaN</td>\n",
       "      <td>ESE</td>\n",
       "      <td>31</td>\n",
       "      <td>20:52</td>\n",
       "      <td>...</td>\n",
       "      <td>8</td>\n",
       "      <td>SE</td>\n",
       "      <td>7</td>\n",
       "      <td>1016.0</td>\n",
       "      <td>23.5</td>\n",
       "      <td>73</td>\n",
       "      <td>6</td>\n",
       "      <td>ESE</td>\n",
       "      <td>15</td>\n",
       "      <td>1016.2</td>\n",
       "    </tr>\n",
       "    <tr>\n",
       "      <th>4</th>\n",
       "      <td>2024-01-05</td>\n",
       "      <td>Fr</td>\n",
       "      <td>14.4</td>\n",
       "      <td>23.9</td>\n",
       "      <td>4.2</td>\n",
       "      <td>NaN</td>\n",
       "      <td>NaN</td>\n",
       "      <td>ENE</td>\n",
       "      <td>43</td>\n",
       "      <td>16:15</td>\n",
       "      <td>...</td>\n",
       "      <td>8</td>\n",
       "      <td>SSE</td>\n",
       "      <td>17</td>\n",
       "      <td>1021.5</td>\n",
       "      <td>22.4</td>\n",
       "      <td>54</td>\n",
       "      <td>8</td>\n",
       "      <td>E</td>\n",
       "      <td>17</td>\n",
       "      <td>1019.8</td>\n",
       "    </tr>\n",
       "  </tbody>\n",
       "</table>\n",
       "<p>5 rows × 22 columns</p>\n",
       "</div>"
      ],
      "text/plain": [
       "        Date Day Temps       Rain Evap   Sun Max wind gust              ...  \\\n",
       "        Date Day   Min   Max Rain Evap   Sun           Dir  Spd   Time  ...   \n",
       "        Date Day    °C    °C   mm   mm hours          km/h km/h  local  ...   \n",
       "0 2024-01-01  Mo  14.5  27.6    0  NaN   NaN            NE   30  18:14  ...   \n",
       "1 2024-01-02  Tu  16.9  27.7  0.6  NaN   NaN           NNE   31  17:45  ...   \n",
       "2 2024-01-03  We  17.2  30.2  0.4  NaN   NaN            SE   37  19:27  ...   \n",
       "3 2024-01-04  Th  16.9  24.1  4.8  NaN   NaN           ESE   31  20:52  ...   \n",
       "4 2024-01-05  Fr  14.4  23.9  4.2  NaN   NaN           ENE   43  16:15  ...   \n",
       "\n",
       "  9 am                    3 pm                            \n",
       "   Cld  Dir  Spd    MSLP  Temp  RH Cld  Dir  Spd    MSLP  \n",
       "   8th km/h km/h     hPa    °C   % 8th km/h km/h     hPa  \n",
       "0    8    E   13  1022.5  25.0  53   5    S    9  1018.0  \n",
       "1    8    S    9  1018.3  26.2  56   1    N   11  1015.5  \n",
       "2    7   SE    4  1016.2  28.7  54   8  WNW   13  1013.0  \n",
       "3    8   SE    7  1016.0  23.5  73   6  ESE   15  1016.2  \n",
       "4    8  SSE   17  1021.5  22.4  54   8    E   17  1019.8  \n",
       "\n",
       "[5 rows x 22 columns]"
      ]
     },
     "execution_count": 9,
     "metadata": {},
     "output_type": "execute_result"
    }
   ],
   "source": [
    "weather_data.head(5)"
   ]
  },
  {
   "cell_type": "code",
   "execution_count": null,
   "id": "f71aff8e-af62-49f2-a59a-e8bece7e5f19",
   "metadata": {},
   "outputs": [],
   "source": []
  }
 ],
 "metadata": {
  "kernelspec": {
   "display_name": "Python 3 (ipykernel)",
   "language": "python",
   "name": "python3"
  },
  "language_info": {
   "codemirror_mode": {
    "name": "ipython",
    "version": 3
   },
   "file_extension": ".py",
   "mimetype": "text/x-python",
   "name": "python",
   "nbconvert_exporter": "python",
   "pygments_lexer": "ipython3",
   "version": "3.12.4"
  }
 },
 "nbformat": 4,
 "nbformat_minor": 5
}
